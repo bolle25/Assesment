{
 "cells": [
  {
   "cell_type": "markdown",
   "metadata": {},
   "source": [
    "# Technical Assesment\n",
    "###### Britton Blaize Olle"
   ]
  },
  {
   "cell_type": "code",
   "execution_count": 128,
   "metadata": {},
   "outputs": [],
   "source": [
    "import pandas as pd\n",
    "import datetime as dt\n",
    "import numpy as np\n",
    "import scipy as sc\n",
    "import matplotlib.pyplot as plt\n",
    "import statsmodels.api as sm\n",
    "import csv\n",
    "import math\n",
    "import sklearn\n",
    "from scipy.optimize import minimize\n",
    "from sklearn import preprocessing\n",
    "from sklearn.linear_model import LogisticRegression\n",
    "from sklearn.cross_validation import train_test_split\n",
    "import json"
   ]
  },
  {
   "cell_type": "markdown",
   "metadata": {},
   "source": [
    "### Wrangle Data\n",
    "Pull the data with the appropriate columns.\n",
    "However, I do think there could have been some other columns that would have been useful for this analysis. Particularly the 'id', and 'home_owner' which I think would be an additional variable that could be fun to look at."
   ]
  },
  {
   "cell_type": "code",
   "execution_count": 2,
   "metadata": {
    "collapsed": true
   },
   "outputs": [],
   "source": [
    "loan_main = pd.read_csv(\"loan.csv\", usecols=['loan_amnt', 'funded_amnt', 'term', 'int_rate', 'grade', 'annual_inc', 'issue_d',\n",
    "                                             'dti', 'revol_bal', 'total_pymnt', 'loan_status'])"
   ]
  },
  {
   "cell_type": "code",
   "execution_count": 3,
   "metadata": {},
   "outputs": [
    {
     "data": {
      "text/html": [
       "<div>\n",
       "<style>\n",
       "    .dataframe thead tr:only-child th {\n",
       "        text-align: right;\n",
       "    }\n",
       "\n",
       "    .dataframe thead th {\n",
       "        text-align: left;\n",
       "    }\n",
       "\n",
       "    .dataframe tbody tr th {\n",
       "        vertical-align: top;\n",
       "    }\n",
       "</style>\n",
       "<table border=\"1\" class=\"dataframe\">\n",
       "  <thead>\n",
       "    <tr style=\"text-align: right;\">\n",
       "      <th></th>\n",
       "      <th>loan_amnt</th>\n",
       "      <th>funded_amnt</th>\n",
       "      <th>term</th>\n",
       "      <th>int_rate</th>\n",
       "      <th>grade</th>\n",
       "      <th>annual_inc</th>\n",
       "      <th>issue_d</th>\n",
       "      <th>loan_status</th>\n",
       "      <th>dti</th>\n",
       "      <th>revol_bal</th>\n",
       "      <th>total_pymnt</th>\n",
       "    </tr>\n",
       "  </thead>\n",
       "  <tbody>\n",
       "    <tr>\n",
       "      <th>0</th>\n",
       "      <td>5000.0</td>\n",
       "      <td>5000.0</td>\n",
       "      <td>36 months</td>\n",
       "      <td>10.65</td>\n",
       "      <td>B</td>\n",
       "      <td>24000.0</td>\n",
       "      <td>Dec-2011</td>\n",
       "      <td>Fully Paid</td>\n",
       "      <td>27.65</td>\n",
       "      <td>13648.0</td>\n",
       "      <td>5861.071414</td>\n",
       "    </tr>\n",
       "    <tr>\n",
       "      <th>1</th>\n",
       "      <td>2500.0</td>\n",
       "      <td>2500.0</td>\n",
       "      <td>60 months</td>\n",
       "      <td>15.27</td>\n",
       "      <td>C</td>\n",
       "      <td>30000.0</td>\n",
       "      <td>Dec-2011</td>\n",
       "      <td>Charged Off</td>\n",
       "      <td>1.00</td>\n",
       "      <td>1687.0</td>\n",
       "      <td>1008.710000</td>\n",
       "    </tr>\n",
       "    <tr>\n",
       "      <th>2</th>\n",
       "      <td>2400.0</td>\n",
       "      <td>2400.0</td>\n",
       "      <td>36 months</td>\n",
       "      <td>15.96</td>\n",
       "      <td>C</td>\n",
       "      <td>12252.0</td>\n",
       "      <td>Dec-2011</td>\n",
       "      <td>Fully Paid</td>\n",
       "      <td>8.72</td>\n",
       "      <td>2956.0</td>\n",
       "      <td>3003.653644</td>\n",
       "    </tr>\n",
       "    <tr>\n",
       "      <th>3</th>\n",
       "      <td>10000.0</td>\n",
       "      <td>10000.0</td>\n",
       "      <td>36 months</td>\n",
       "      <td>13.49</td>\n",
       "      <td>C</td>\n",
       "      <td>49200.0</td>\n",
       "      <td>Dec-2011</td>\n",
       "      <td>Fully Paid</td>\n",
       "      <td>20.00</td>\n",
       "      <td>5598.0</td>\n",
       "      <td>12226.302212</td>\n",
       "    </tr>\n",
       "    <tr>\n",
       "      <th>4</th>\n",
       "      <td>3000.0</td>\n",
       "      <td>3000.0</td>\n",
       "      <td>60 months</td>\n",
       "      <td>12.69</td>\n",
       "      <td>B</td>\n",
       "      <td>80000.0</td>\n",
       "      <td>Dec-2011</td>\n",
       "      <td>Current</td>\n",
       "      <td>17.94</td>\n",
       "      <td>27783.0</td>\n",
       "      <td>3242.170000</td>\n",
       "    </tr>\n",
       "  </tbody>\n",
       "</table>\n",
       "</div>"
      ],
      "text/plain": [
       "   loan_amnt  funded_amnt        term  int_rate grade  annual_inc   issue_d  \\\n",
       "0     5000.0       5000.0   36 months     10.65     B     24000.0  Dec-2011   \n",
       "1     2500.0       2500.0   60 months     15.27     C     30000.0  Dec-2011   \n",
       "2     2400.0       2400.0   36 months     15.96     C     12252.0  Dec-2011   \n",
       "3    10000.0      10000.0   36 months     13.49     C     49200.0  Dec-2011   \n",
       "4     3000.0       3000.0   60 months     12.69     B     80000.0  Dec-2011   \n",
       "\n",
       "   loan_status    dti  revol_bal   total_pymnt  \n",
       "0   Fully Paid  27.65    13648.0   5861.071414  \n",
       "1  Charged Off   1.00     1687.0   1008.710000  \n",
       "2   Fully Paid   8.72     2956.0   3003.653644  \n",
       "3   Fully Paid  20.00     5598.0  12226.302212  \n",
       "4      Current  17.94    27783.0   3242.170000  "
      ]
     },
     "execution_count": 3,
     "metadata": {},
     "output_type": "execute_result"
    }
   ],
   "source": [
    "loan_main.head()"
   ]
  },
  {
   "cell_type": "markdown",
   "metadata": {},
   "source": [
    "###### Initial lookup"
   ]
  },
  {
   "cell_type": "code",
   "execution_count": 4,
   "metadata": {},
   "outputs": [
    {
     "name": "stdout",
     "output_type": "stream",
     "text": [
      "(887379, 11)\n"
     ]
    }
   ],
   "source": [
    "print(loan_main.shape)"
   ]
  },
  {
   "cell_type": "code",
   "execution_count": 5,
   "metadata": {},
   "outputs": [
    {
     "data": {
      "text/plain": [
       "loan_amnt      0\n",
       "funded_amnt    0\n",
       "term           0\n",
       "int_rate       0\n",
       "grade          0\n",
       "dtype: int64"
      ]
     },
     "execution_count": 5,
     "metadata": {},
     "output_type": "execute_result"
    }
   ],
   "source": [
    "loan_main.isnull().sum().head()"
   ]
  },
  {
   "cell_type": "markdown",
   "metadata": {},
   "source": [
    "The data set we will be working with is limited to the 11 variables specified in the PDF with 887,379 observations with only 4 apparent null variables all within the annual_income category. For simplicity, to fix this issue for now I am going to fill the NA variables with the next available value. However, given more time I think a more appropriate solution would be to find the distribution of annual income for each grade of loan and randomly pick from the distribution to fill the missing values. But do to time constraints and the fact that only 4 values are missing, the median fill should be sufficient. Additionally, because of the small portion of Na values I also think it would be acceptable to drop the loans with NA values completely. Currently there is no index I will be grouping the data and changing the index throughout the analysis. To start I will use the issued date as index."
   ]
  },
  {
   "cell_type": "code",
   "execution_count": 6,
   "metadata": {},
   "outputs": [
    {
     "data": {
      "text/plain": [
       "loan_amnt      0\n",
       "funded_amnt    0\n",
       "term           0\n",
       "int_rate       0\n",
       "grade          0\n",
       "annual_inc     0\n",
       "issue_d        0\n",
       "loan_status    0\n",
       "dti            0\n",
       "revol_bal      0\n",
       "total_pymnt    0\n",
       "dtype: int64"
      ]
     },
     "execution_count": 6,
     "metadata": {},
     "output_type": "execute_result"
    }
   ],
   "source": [
    "loan_main=loan_main.fillna(method='ffill').fillna(method='bfill')\n",
    "loan_main.isnull().sum()"
   ]
  },
  {
   "cell_type": "code",
   "execution_count": 7,
   "metadata": {},
   "outputs": [
    {
     "name": "stdout",
     "output_type": "stream",
     "text": [
      "0\n"
     ]
    }
   ],
   "source": [
    "print(loan_main.duplicated().sum())\n",
    "#No duplicates"
   ]
  },
  {
   "cell_type": "code",
   "execution_count": 8,
   "metadata": {},
   "outputs": [
    {
     "data": {
      "text/html": [
       "<div>\n",
       "<style>\n",
       "    .dataframe thead tr:only-child th {\n",
       "        text-align: right;\n",
       "    }\n",
       "\n",
       "    .dataframe thead th {\n",
       "        text-align: left;\n",
       "    }\n",
       "\n",
       "    .dataframe tbody tr th {\n",
       "        vertical-align: top;\n",
       "    }\n",
       "</style>\n",
       "<table border=\"1\" class=\"dataframe\">\n",
       "  <thead>\n",
       "    <tr style=\"text-align: right;\">\n",
       "      <th></th>\n",
       "      <th>loan_amnt</th>\n",
       "      <th>funded_amnt</th>\n",
       "      <th>term</th>\n",
       "      <th>int_rate</th>\n",
       "      <th>grade</th>\n",
       "      <th>annual_inc</th>\n",
       "      <th>loan_status</th>\n",
       "      <th>dti</th>\n",
       "      <th>revol_bal</th>\n",
       "      <th>total_pymnt</th>\n",
       "    </tr>\n",
       "    <tr>\n",
       "      <th>issue_d</th>\n",
       "      <th></th>\n",
       "      <th></th>\n",
       "      <th></th>\n",
       "      <th></th>\n",
       "      <th></th>\n",
       "      <th></th>\n",
       "      <th></th>\n",
       "      <th></th>\n",
       "      <th></th>\n",
       "      <th></th>\n",
       "    </tr>\n",
       "  </thead>\n",
       "  <tbody>\n",
       "    <tr>\n",
       "      <th>Dec-2011</th>\n",
       "      <td>5000.0</td>\n",
       "      <td>5000.0</td>\n",
       "      <td>36 months</td>\n",
       "      <td>10.65</td>\n",
       "      <td>B</td>\n",
       "      <td>24000.0</td>\n",
       "      <td>Fully Paid</td>\n",
       "      <td>27.65</td>\n",
       "      <td>13648.0</td>\n",
       "      <td>5861.071414</td>\n",
       "    </tr>\n",
       "    <tr>\n",
       "      <th>Dec-2011</th>\n",
       "      <td>2500.0</td>\n",
       "      <td>2500.0</td>\n",
       "      <td>60 months</td>\n",
       "      <td>15.27</td>\n",
       "      <td>C</td>\n",
       "      <td>30000.0</td>\n",
       "      <td>Charged Off</td>\n",
       "      <td>1.00</td>\n",
       "      <td>1687.0</td>\n",
       "      <td>1008.710000</td>\n",
       "    </tr>\n",
       "    <tr>\n",
       "      <th>Dec-2011</th>\n",
       "      <td>2400.0</td>\n",
       "      <td>2400.0</td>\n",
       "      <td>36 months</td>\n",
       "      <td>15.96</td>\n",
       "      <td>C</td>\n",
       "      <td>12252.0</td>\n",
       "      <td>Fully Paid</td>\n",
       "      <td>8.72</td>\n",
       "      <td>2956.0</td>\n",
       "      <td>3003.653644</td>\n",
       "    </tr>\n",
       "    <tr>\n",
       "      <th>Dec-2011</th>\n",
       "      <td>10000.0</td>\n",
       "      <td>10000.0</td>\n",
       "      <td>36 months</td>\n",
       "      <td>13.49</td>\n",
       "      <td>C</td>\n",
       "      <td>49200.0</td>\n",
       "      <td>Fully Paid</td>\n",
       "      <td>20.00</td>\n",
       "      <td>5598.0</td>\n",
       "      <td>12226.302212</td>\n",
       "    </tr>\n",
       "    <tr>\n",
       "      <th>Dec-2011</th>\n",
       "      <td>3000.0</td>\n",
       "      <td>3000.0</td>\n",
       "      <td>60 months</td>\n",
       "      <td>12.69</td>\n",
       "      <td>B</td>\n",
       "      <td>80000.0</td>\n",
       "      <td>Current</td>\n",
       "      <td>17.94</td>\n",
       "      <td>27783.0</td>\n",
       "      <td>3242.170000</td>\n",
       "    </tr>\n",
       "  </tbody>\n",
       "</table>\n",
       "</div>"
      ],
      "text/plain": [
       "          loan_amnt  funded_amnt        term  int_rate grade  annual_inc  \\\n",
       "issue_d                                                                    \n",
       "Dec-2011     5000.0       5000.0   36 months     10.65     B     24000.0   \n",
       "Dec-2011     2500.0       2500.0   60 months     15.27     C     30000.0   \n",
       "Dec-2011     2400.0       2400.0   36 months     15.96     C     12252.0   \n",
       "Dec-2011    10000.0      10000.0   36 months     13.49     C     49200.0   \n",
       "Dec-2011     3000.0       3000.0   60 months     12.69     B     80000.0   \n",
       "\n",
       "          loan_status    dti  revol_bal   total_pymnt  \n",
       "issue_d                                                \n",
       "Dec-2011   Fully Paid  27.65    13648.0   5861.071414  \n",
       "Dec-2011  Charged Off   1.00     1687.0   1008.710000  \n",
       "Dec-2011   Fully Paid   8.72     2956.0   3003.653644  \n",
       "Dec-2011   Fully Paid  20.00     5598.0  12226.302212  \n",
       "Dec-2011      Current  17.94    27783.0   3242.170000  "
      ]
     },
     "execution_count": 8,
     "metadata": {},
     "output_type": "execute_result"
    }
   ],
   "source": [
    "pvt=loan_main.set_index(['issue_d'])\n",
    "pvt.head()"
   ]
  },
  {
   "cell_type": "markdown",
   "metadata": {},
   "source": [
    "Next, we will do exploration. First, I am interested to see uniquids for the variables 'term', 'loan_status'. Below you can see the variables."
   ]
  },
  {
   "cell_type": "code",
   "execution_count": 9,
   "metadata": {
    "scrolled": true
   },
   "outputs": [
    {
     "name": "stdout",
     "output_type": "stream",
     "text": [
      "[' 36 months' ' 60 months']\n",
      "['B' 'C' 'A' 'E' 'F' 'D' 'G']\n",
      "['Fully Paid' 'Charged Off' 'Current' 'Default' 'Late (31-120 days)'\n",
      " 'In Grace Period' 'Late (16-30 days)'\n",
      " 'Does not meet the credit policy. Status:Fully Paid'\n",
      " 'Does not meet the credit policy. Status:Charged Off' 'Issued']\n"
     ]
    }
   ],
   "source": [
    "print(pvt['term'].unique())\n",
    "print(pvt['grade'].unique())\n",
    "print(pvt['loan_status'].unique())"
   ]
  },
  {
   "cell_type": "markdown",
   "metadata": {},
   "source": [
    "I think, especially for the grades it could be useful to create some dummy variables which I will do later.\n",
    "Additionally, I am switching back to having no index.\n",
    "###### Summary statistics and Distribution of Graphs.\n",
    "To avoid biases created by outliers I think it is important to use the median instead of the mean for the general statistics. While I do analyze the mean, for distributions and analysis I will use the median statistics."
   ]
  },
  {
   "cell_type": "code",
   "execution_count": 10,
   "metadata": {},
   "outputs": [
    {
     "data": {
      "text/html": [
       "<div>\n",
       "<style>\n",
       "    .dataframe thead tr:only-child th {\n",
       "        text-align: right;\n",
       "    }\n",
       "\n",
       "    .dataframe thead th {\n",
       "        text-align: left;\n",
       "    }\n",
       "\n",
       "    .dataframe tbody tr th {\n",
       "        vertical-align: top;\n",
       "    }\n",
       "</style>\n",
       "<table border=\"1\" class=\"dataframe\">\n",
       "  <thead>\n",
       "    <tr style=\"text-align: right;\">\n",
       "      <th></th>\n",
       "      <th>loan_amnt</th>\n",
       "      <th>funded_amnt</th>\n",
       "      <th>int_rate</th>\n",
       "      <th>annual_inc</th>\n",
       "      <th>dti</th>\n",
       "      <th>revol_bal</th>\n",
       "      <th>total_pymnt</th>\n",
       "    </tr>\n",
       "    <tr>\n",
       "      <th>grade</th>\n",
       "      <th></th>\n",
       "      <th></th>\n",
       "      <th></th>\n",
       "      <th></th>\n",
       "      <th></th>\n",
       "      <th></th>\n",
       "      <th></th>\n",
       "    </tr>\n",
       "  </thead>\n",
       "  <tbody>\n",
       "    <tr>\n",
       "      <th>A</th>\n",
       "      <td>12000.0</td>\n",
       "      <td>12000.0</td>\n",
       "      <td>7.26</td>\n",
       "      <td>75000.0</td>\n",
       "      <td>15.080</td>\n",
       "      <td>12866.0</td>\n",
       "      <td>4808.390</td>\n",
       "    </tr>\n",
       "    <tr>\n",
       "      <th>B</th>\n",
       "      <td>12000.0</td>\n",
       "      <td>12000.0</td>\n",
       "      <td>10.99</td>\n",
       "      <td>65000.0</td>\n",
       "      <td>16.860</td>\n",
       "      <td>11879.0</td>\n",
       "      <td>4915.490</td>\n",
       "    </tr>\n",
       "    <tr>\n",
       "      <th>C</th>\n",
       "      <td>12000.0</td>\n",
       "      <td>12000.0</td>\n",
       "      <td>13.99</td>\n",
       "      <td>60000.0</td>\n",
       "      <td>18.350</td>\n",
       "      <td>11563.0</td>\n",
       "      <td>4521.880</td>\n",
       "    </tr>\n",
       "    <tr>\n",
       "      <th>D</th>\n",
       "      <td>14000.0</td>\n",
       "      <td>14000.0</td>\n",
       "      <td>16.99</td>\n",
       "      <td>60000.0</td>\n",
       "      <td>19.450</td>\n",
       "      <td>11304.0</td>\n",
       "      <td>5114.575</td>\n",
       "    </tr>\n",
       "    <tr>\n",
       "      <th>E</th>\n",
       "      <td>16850.0</td>\n",
       "      <td>16800.0</td>\n",
       "      <td>19.99</td>\n",
       "      <td>61000.0</td>\n",
       "      <td>20.050</td>\n",
       "      <td>12155.0</td>\n",
       "      <td>5169.230</td>\n",
       "    </tr>\n",
       "    <tr>\n",
       "      <th>F</th>\n",
       "      <td>18625.0</td>\n",
       "      <td>18550.0</td>\n",
       "      <td>23.76</td>\n",
       "      <td>65000.0</td>\n",
       "      <td>19.695</td>\n",
       "      <td>12022.5</td>\n",
       "      <td>6491.285</td>\n",
       "    </tr>\n",
       "    <tr>\n",
       "      <th>G</th>\n",
       "      <td>20000.0</td>\n",
       "      <td>20000.0</td>\n",
       "      <td>25.83</td>\n",
       "      <td>68000.0</td>\n",
       "      <td>19.280</td>\n",
       "      <td>11553.0</td>\n",
       "      <td>8186.450</td>\n",
       "    </tr>\n",
       "  </tbody>\n",
       "</table>\n",
       "</div>"
      ],
      "text/plain": [
       "       loan_amnt  funded_amnt  int_rate  annual_inc     dti  revol_bal  \\\n",
       "grade                                                                    \n",
       "A        12000.0      12000.0      7.26     75000.0  15.080    12866.0   \n",
       "B        12000.0      12000.0     10.99     65000.0  16.860    11879.0   \n",
       "C        12000.0      12000.0     13.99     60000.0  18.350    11563.0   \n",
       "D        14000.0      14000.0     16.99     60000.0  19.450    11304.0   \n",
       "E        16850.0      16800.0     19.99     61000.0  20.050    12155.0   \n",
       "F        18625.0      18550.0     23.76     65000.0  19.695    12022.5   \n",
       "G        20000.0      20000.0     25.83     68000.0  19.280    11553.0   \n",
       "\n",
       "       total_pymnt  \n",
       "grade               \n",
       "A         4808.390  \n",
       "B         4915.490  \n",
       "C         4521.880  \n",
       "D         5114.575  \n",
       "E         5169.230  \n",
       "F         6491.285  \n",
       "G         8186.450  "
      ]
     },
     "execution_count": 10,
     "metadata": {},
     "output_type": "execute_result"
    }
   ],
   "source": [
    "loan_main.groupby('grade').median()"
   ]
  },
  {
   "cell_type": "code",
   "execution_count": 11,
   "metadata": {},
   "outputs": [
    {
     "data": {
      "text/html": [
       "<div>\n",
       "<style>\n",
       "    .dataframe thead tr:only-child th {\n",
       "        text-align: right;\n",
       "    }\n",
       "\n",
       "    .dataframe thead th {\n",
       "        text-align: left;\n",
       "    }\n",
       "\n",
       "    .dataframe tbody tr th {\n",
       "        vertical-align: top;\n",
       "    }\n",
       "</style>\n",
       "<table border=\"1\" class=\"dataframe\">\n",
       "  <thead>\n",
       "    <tr style=\"text-align: right;\">\n",
       "      <th></th>\n",
       "      <th>loan_amnt</th>\n",
       "      <th>funded_amnt</th>\n",
       "      <th>int_rate</th>\n",
       "      <th>annual_inc</th>\n",
       "      <th>dti</th>\n",
       "      <th>revol_bal</th>\n",
       "      <th>total_pymnt</th>\n",
       "    </tr>\n",
       "    <tr>\n",
       "      <th>grade</th>\n",
       "      <th></th>\n",
       "      <th></th>\n",
       "      <th></th>\n",
       "      <th></th>\n",
       "      <th></th>\n",
       "      <th></th>\n",
       "      <th></th>\n",
       "    </tr>\n",
       "  </thead>\n",
       "  <tbody>\n",
       "    <tr>\n",
       "      <th>A</th>\n",
       "      <td>14038.860306</td>\n",
       "      <td>14023.323572</td>\n",
       "      <td>7.243312</td>\n",
       "      <td>86941.890728</td>\n",
       "      <td>15.577401</td>\n",
       "      <td>18953.963199</td>\n",
       "      <td>7068.284092</td>\n",
       "    </tr>\n",
       "    <tr>\n",
       "      <th>B</th>\n",
       "      <td>13642.965211</td>\n",
       "      <td>13630.195062</td>\n",
       "      <td>10.829618</td>\n",
       "      <td>75487.389207</td>\n",
       "      <td>17.305115</td>\n",
       "      <td>16911.403017</td>\n",
       "      <td>7266.042944</td>\n",
       "    </tr>\n",
       "    <tr>\n",
       "      <th>C</th>\n",
       "      <td>14466.306028</td>\n",
       "      <td>14458.230599</td>\n",
       "      <td>13.980098</td>\n",
       "      <td>71536.950300</td>\n",
       "      <td>18.792559</td>\n",
       "      <td>16355.232405</td>\n",
       "      <td>7175.405419</td>\n",
       "    </tr>\n",
       "    <tr>\n",
       "      <th>D</th>\n",
       "      <td>15459.506278</td>\n",
       "      <td>15450.499670</td>\n",
       "      <td>17.175814</td>\n",
       "      <td>69169.272616</td>\n",
       "      <td>19.908175</td>\n",
       "      <td>15880.873551</td>\n",
       "      <td>7922.393262</td>\n",
       "    </tr>\n",
       "    <tr>\n",
       "      <th>E</th>\n",
       "      <td>17998.146171</td>\n",
       "      <td>17970.831978</td>\n",
       "      <td>19.897322</td>\n",
       "      <td>72119.152229</td>\n",
       "      <td>20.338847</td>\n",
       "      <td>16847.066077</td>\n",
       "      <td>8862.453019</td>\n",
       "    </tr>\n",
       "    <tr>\n",
       "      <th>F</th>\n",
       "      <td>19139.160809</td>\n",
       "      <td>19098.808904</td>\n",
       "      <td>23.582787</td>\n",
       "      <td>73801.170917</td>\n",
       "      <td>19.834316</td>\n",
       "      <td>16410.247158</td>\n",
       "      <td>10718.213782</td>\n",
       "    </tr>\n",
       "    <tr>\n",
       "      <th>G</th>\n",
       "      <td>20538.563491</td>\n",
       "      <td>20497.959555</td>\n",
       "      <td>25.626706</td>\n",
       "      <td>79904.591762</td>\n",
       "      <td>19.182093</td>\n",
       "      <td>17322.579705</td>\n",
       "      <td>12254.420001</td>\n",
       "    </tr>\n",
       "  </tbody>\n",
       "</table>\n",
       "</div>"
      ],
      "text/plain": [
       "          loan_amnt   funded_amnt   int_rate    annual_inc        dti  \\\n",
       "grade                                                                   \n",
       "A      14038.860306  14023.323572   7.243312  86941.890728  15.577401   \n",
       "B      13642.965211  13630.195062  10.829618  75487.389207  17.305115   \n",
       "C      14466.306028  14458.230599  13.980098  71536.950300  18.792559   \n",
       "D      15459.506278  15450.499670  17.175814  69169.272616  19.908175   \n",
       "E      17998.146171  17970.831978  19.897322  72119.152229  20.338847   \n",
       "F      19139.160809  19098.808904  23.582787  73801.170917  19.834316   \n",
       "G      20538.563491  20497.959555  25.626706  79904.591762  19.182093   \n",
       "\n",
       "          revol_bal   total_pymnt  \n",
       "grade                              \n",
       "A      18953.963199   7068.284092  \n",
       "B      16911.403017   7266.042944  \n",
       "C      16355.232405   7175.405419  \n",
       "D      15880.873551   7922.393262  \n",
       "E      16847.066077   8862.453019  \n",
       "F      16410.247158  10718.213782  \n",
       "G      17322.579705  12254.420001  "
      ]
     },
     "execution_count": 11,
     "metadata": {},
     "output_type": "execute_result"
    }
   ],
   "source": [
    "loan_main.groupby('grade').mean()"
   ]
  },
  {
   "cell_type": "code",
   "execution_count": 12,
   "metadata": {},
   "outputs": [
    {
     "data": {
      "text/html": [
       "<div>\n",
       "<style>\n",
       "    .dataframe thead tr:only-child th {\n",
       "        text-align: right;\n",
       "    }\n",
       "\n",
       "    .dataframe thead th {\n",
       "        text-align: left;\n",
       "    }\n",
       "\n",
       "    .dataframe tbody tr th {\n",
       "        vertical-align: top;\n",
       "    }\n",
       "</style>\n",
       "<table border=\"1\" class=\"dataframe\">\n",
       "  <thead>\n",
       "    <tr style=\"text-align: right;\">\n",
       "      <th></th>\n",
       "      <th>loan_amnt</th>\n",
       "      <th>funded_amnt</th>\n",
       "      <th>term</th>\n",
       "      <th>int_rate</th>\n",
       "      <th>annual_inc</th>\n",
       "      <th>issue_d</th>\n",
       "      <th>loan_status</th>\n",
       "      <th>dti</th>\n",
       "      <th>revol_bal</th>\n",
       "      <th>total_pymnt</th>\n",
       "    </tr>\n",
       "    <tr>\n",
       "      <th>grade</th>\n",
       "      <th></th>\n",
       "      <th></th>\n",
       "      <th></th>\n",
       "      <th></th>\n",
       "      <th></th>\n",
       "      <th></th>\n",
       "      <th></th>\n",
       "      <th></th>\n",
       "      <th></th>\n",
       "      <th></th>\n",
       "    </tr>\n",
       "  </thead>\n",
       "  <tbody>\n",
       "    <tr>\n",
       "      <th>A</th>\n",
       "      <td>500.0</td>\n",
       "      <td>500.0</td>\n",
       "      <td>36 months</td>\n",
       "      <td>5.32</td>\n",
       "      <td>3300.0</td>\n",
       "      <td>Apr-2008</td>\n",
       "      <td>Charged Off</td>\n",
       "      <td>0.0</td>\n",
       "      <td>0.0</td>\n",
       "      <td>0.0</td>\n",
       "    </tr>\n",
       "    <tr>\n",
       "      <th>B</th>\n",
       "      <td>500.0</td>\n",
       "      <td>500.0</td>\n",
       "      <td>36 months</td>\n",
       "      <td>6.00</td>\n",
       "      <td>2000.0</td>\n",
       "      <td>Apr-2008</td>\n",
       "      <td>Charged Off</td>\n",
       "      <td>0.0</td>\n",
       "      <td>0.0</td>\n",
       "      <td>0.0</td>\n",
       "    </tr>\n",
       "    <tr>\n",
       "      <th>C</th>\n",
       "      <td>500.0</td>\n",
       "      <td>500.0</td>\n",
       "      <td>36 months</td>\n",
       "      <td>6.00</td>\n",
       "      <td>0.0</td>\n",
       "      <td>Apr-2008</td>\n",
       "      <td>Charged Off</td>\n",
       "      <td>0.0</td>\n",
       "      <td>0.0</td>\n",
       "      <td>0.0</td>\n",
       "    </tr>\n",
       "    <tr>\n",
       "      <th>D</th>\n",
       "      <td>500.0</td>\n",
       "      <td>500.0</td>\n",
       "      <td>36 months</td>\n",
       "      <td>6.00</td>\n",
       "      <td>0.0</td>\n",
       "      <td>Apr-2008</td>\n",
       "      <td>Charged Off</td>\n",
       "      <td>0.0</td>\n",
       "      <td>0.0</td>\n",
       "      <td>0.0</td>\n",
       "    </tr>\n",
       "    <tr>\n",
       "      <th>E</th>\n",
       "      <td>600.0</td>\n",
       "      <td>600.0</td>\n",
       "      <td>36 months</td>\n",
       "      <td>6.00</td>\n",
       "      <td>1200.0</td>\n",
       "      <td>Apr-2008</td>\n",
       "      <td>Charged Off</td>\n",
       "      <td>0.0</td>\n",
       "      <td>0.0</td>\n",
       "      <td>0.0</td>\n",
       "    </tr>\n",
       "  </tbody>\n",
       "</table>\n",
       "</div>"
      ],
      "text/plain": [
       "       loan_amnt  funded_amnt        term  int_rate  annual_inc   issue_d  \\\n",
       "grade                                                                       \n",
       "A          500.0        500.0   36 months      5.32      3300.0  Apr-2008   \n",
       "B          500.0        500.0   36 months      6.00      2000.0  Apr-2008   \n",
       "C          500.0        500.0   36 months      6.00         0.0  Apr-2008   \n",
       "D          500.0        500.0   36 months      6.00         0.0  Apr-2008   \n",
       "E          600.0        600.0   36 months      6.00      1200.0  Apr-2008   \n",
       "\n",
       "       loan_status  dti  revol_bal  total_pymnt  \n",
       "grade                                            \n",
       "A      Charged Off  0.0        0.0          0.0  \n",
       "B      Charged Off  0.0        0.0          0.0  \n",
       "C      Charged Off  0.0        0.0          0.0  \n",
       "D      Charged Off  0.0        0.0          0.0  \n",
       "E      Charged Off  0.0        0.0          0.0  "
      ]
     },
     "execution_count": 12,
     "metadata": {},
     "output_type": "execute_result"
    }
   ],
   "source": [
    "loan_main.groupby('grade').min().head()"
   ]
  },
  {
   "cell_type": "code",
   "execution_count": 13,
   "metadata": {},
   "outputs": [
    {
     "data": {
      "text/html": [
       "<div>\n",
       "<style>\n",
       "    .dataframe thead tr:only-child th {\n",
       "        text-align: right;\n",
       "    }\n",
       "\n",
       "    .dataframe thead th {\n",
       "        text-align: left;\n",
       "    }\n",
       "\n",
       "    .dataframe tbody tr th {\n",
       "        vertical-align: top;\n",
       "    }\n",
       "</style>\n",
       "<table border=\"1\" class=\"dataframe\">\n",
       "  <thead>\n",
       "    <tr style=\"text-align: right;\">\n",
       "      <th></th>\n",
       "      <th>loan_amnt</th>\n",
       "      <th>funded_amnt</th>\n",
       "      <th>term</th>\n",
       "      <th>int_rate</th>\n",
       "      <th>annual_inc</th>\n",
       "      <th>issue_d</th>\n",
       "      <th>loan_status</th>\n",
       "      <th>dti</th>\n",
       "      <th>revol_bal</th>\n",
       "      <th>total_pymnt</th>\n",
       "    </tr>\n",
       "    <tr>\n",
       "      <th>grade</th>\n",
       "      <th></th>\n",
       "      <th></th>\n",
       "      <th></th>\n",
       "      <th></th>\n",
       "      <th></th>\n",
       "      <th></th>\n",
       "      <th></th>\n",
       "      <th></th>\n",
       "      <th></th>\n",
       "      <th></th>\n",
       "    </tr>\n",
       "  </thead>\n",
       "  <tbody>\n",
       "    <tr>\n",
       "      <th>A</th>\n",
       "      <td>35000.0</td>\n",
       "      <td>35000.0</td>\n",
       "      <td>60 months</td>\n",
       "      <td>9.63</td>\n",
       "      <td>9500000.0</td>\n",
       "      <td>Sep-2015</td>\n",
       "      <td>Late (31-120 days)</td>\n",
       "      <td>39.99</td>\n",
       "      <td>2568995.0</td>\n",
       "      <td>40126.176367</td>\n",
       "    </tr>\n",
       "    <tr>\n",
       "      <th>B</th>\n",
       "      <td>35000.0</td>\n",
       "      <td>35000.0</td>\n",
       "      <td>60 months</td>\n",
       "      <td>14.09</td>\n",
       "      <td>8700000.0</td>\n",
       "      <td>Sep-2015</td>\n",
       "      <td>Late (31-120 days)</td>\n",
       "      <td>41.69</td>\n",
       "      <td>1743266.0</td>\n",
       "      <td>46763.187147</td>\n",
       "    </tr>\n",
       "    <tr>\n",
       "      <th>C</th>\n",
       "      <td>35000.0</td>\n",
       "      <td>35000.0</td>\n",
       "      <td>60 months</td>\n",
       "      <td>17.27</td>\n",
       "      <td>8706582.0</td>\n",
       "      <td>Sep-2015</td>\n",
       "      <td>Late (31-120 days)</td>\n",
       "      <td>9999.00</td>\n",
       "      <td>1746716.0</td>\n",
       "      <td>49015.689950</td>\n",
       "    </tr>\n",
       "    <tr>\n",
       "      <th>D</th>\n",
       "      <td>35000.0</td>\n",
       "      <td>35000.0</td>\n",
       "      <td>60 months</td>\n",
       "      <td>20.31</td>\n",
       "      <td>8900060.0</td>\n",
       "      <td>Sep-2015</td>\n",
       "      <td>Late (31-120 days)</td>\n",
       "      <td>9999.00</td>\n",
       "      <td>2904836.0</td>\n",
       "      <td>51921.657702</td>\n",
       "    </tr>\n",
       "    <tr>\n",
       "      <th>E</th>\n",
       "      <td>35000.0</td>\n",
       "      <td>35000.0</td>\n",
       "      <td>60 months</td>\n",
       "      <td>23.40</td>\n",
       "      <td>7500000.0</td>\n",
       "      <td>Sep-2015</td>\n",
       "      <td>Late (31-120 days)</td>\n",
       "      <td>672.52</td>\n",
       "      <td>1030826.0</td>\n",
       "      <td>54329.489934</td>\n",
       "    </tr>\n",
       "  </tbody>\n",
       "</table>\n",
       "</div>"
      ],
      "text/plain": [
       "       loan_amnt  funded_amnt        term  int_rate  annual_inc   issue_d  \\\n",
       "grade                                                                       \n",
       "A        35000.0      35000.0   60 months      9.63   9500000.0  Sep-2015   \n",
       "B        35000.0      35000.0   60 months     14.09   8700000.0  Sep-2015   \n",
       "C        35000.0      35000.0   60 months     17.27   8706582.0  Sep-2015   \n",
       "D        35000.0      35000.0   60 months     20.31   8900060.0  Sep-2015   \n",
       "E        35000.0      35000.0   60 months     23.40   7500000.0  Sep-2015   \n",
       "\n",
       "              loan_status      dti  revol_bal   total_pymnt  \n",
       "grade                                                        \n",
       "A      Late (31-120 days)    39.99  2568995.0  40126.176367  \n",
       "B      Late (31-120 days)    41.69  1743266.0  46763.187147  \n",
       "C      Late (31-120 days)  9999.00  1746716.0  49015.689950  \n",
       "D      Late (31-120 days)  9999.00  2904836.0  51921.657702  \n",
       "E      Late (31-120 days)   672.52  1030826.0  54329.489934  "
      ]
     },
     "execution_count": 13,
     "metadata": {},
     "output_type": "execute_result"
    }
   ],
   "source": [
    "loan_main.groupby('grade').max().head()"
   ]
  },
  {
   "cell_type": "code",
   "execution_count": 14,
   "metadata": {},
   "outputs": [
    {
     "data": {
      "text/html": [
       "<div>\n",
       "<style>\n",
       "    .dataframe thead tr:only-child th {\n",
       "        text-align: right;\n",
       "    }\n",
       "\n",
       "    .dataframe thead th {\n",
       "        text-align: left;\n",
       "    }\n",
       "\n",
       "    .dataframe tbody tr th {\n",
       "        vertical-align: top;\n",
       "    }\n",
       "</style>\n",
       "<table border=\"1\" class=\"dataframe\">\n",
       "  <thead>\n",
       "    <tr style=\"text-align: right;\">\n",
       "      <th></th>\n",
       "      <th>loan_amnt</th>\n",
       "      <th>funded_amnt</th>\n",
       "      <th>int_rate</th>\n",
       "      <th>annual_inc</th>\n",
       "      <th>dti</th>\n",
       "      <th>revol_bal</th>\n",
       "      <th>total_pymnt</th>\n",
       "    </tr>\n",
       "  </thead>\n",
       "  <tbody>\n",
       "    <tr>\n",
       "      <th>count</th>\n",
       "      <td>887379.000000</td>\n",
       "      <td>887379.000000</td>\n",
       "      <td>887379.000000</td>\n",
       "      <td>8.873790e+05</td>\n",
       "      <td>887379.000000</td>\n",
       "      <td>8.873790e+05</td>\n",
       "      <td>887379.000000</td>\n",
       "    </tr>\n",
       "    <tr>\n",
       "      <th>mean</th>\n",
       "      <td>14755.264605</td>\n",
       "      <td>14741.877625</td>\n",
       "      <td>13.246740</td>\n",
       "      <td>7.502751e+04</td>\n",
       "      <td>18.157039</td>\n",
       "      <td>1.692079e+04</td>\n",
       "      <td>7558.826684</td>\n",
       "    </tr>\n",
       "    <tr>\n",
       "      <th>std</th>\n",
       "      <td>8435.455601</td>\n",
       "      <td>8429.897657</td>\n",
       "      <td>4.381867</td>\n",
       "      <td>6.469819e+04</td>\n",
       "      <td>17.190626</td>\n",
       "      <td>2.242679e+04</td>\n",
       "      <td>7871.243336</td>\n",
       "    </tr>\n",
       "    <tr>\n",
       "      <th>min</th>\n",
       "      <td>500.000000</td>\n",
       "      <td>500.000000</td>\n",
       "      <td>5.320000</td>\n",
       "      <td>0.000000e+00</td>\n",
       "      <td>0.000000</td>\n",
       "      <td>0.000000e+00</td>\n",
       "      <td>0.000000</td>\n",
       "    </tr>\n",
       "    <tr>\n",
       "      <th>25%</th>\n",
       "      <td>8000.000000</td>\n",
       "      <td>8000.000000</td>\n",
       "      <td>9.990000</td>\n",
       "      <td>4.500000e+04</td>\n",
       "      <td>11.910000</td>\n",
       "      <td>6.443000e+03</td>\n",
       "      <td>1914.590000</td>\n",
       "    </tr>\n",
       "    <tr>\n",
       "      <th>50%</th>\n",
       "      <td>13000.000000</td>\n",
       "      <td>13000.000000</td>\n",
       "      <td>12.990000</td>\n",
       "      <td>6.500000e+04</td>\n",
       "      <td>17.650000</td>\n",
       "      <td>1.187500e+04</td>\n",
       "      <td>4894.999117</td>\n",
       "    </tr>\n",
       "    <tr>\n",
       "      <th>75%</th>\n",
       "      <td>20000.000000</td>\n",
       "      <td>20000.000000</td>\n",
       "      <td>16.200000</td>\n",
       "      <td>9.000000e+04</td>\n",
       "      <td>23.950000</td>\n",
       "      <td>2.082900e+04</td>\n",
       "      <td>10616.814231</td>\n",
       "    </tr>\n",
       "    <tr>\n",
       "      <th>max</th>\n",
       "      <td>35000.000000</td>\n",
       "      <td>35000.000000</td>\n",
       "      <td>28.990000</td>\n",
       "      <td>9.500000e+06</td>\n",
       "      <td>9999.000000</td>\n",
       "      <td>2.904836e+06</td>\n",
       "      <td>57777.579870</td>\n",
       "    </tr>\n",
       "  </tbody>\n",
       "</table>\n",
       "</div>"
      ],
      "text/plain": [
       "           loan_amnt    funded_amnt       int_rate    annual_inc  \\\n",
       "count  887379.000000  887379.000000  887379.000000  8.873790e+05   \n",
       "mean    14755.264605   14741.877625      13.246740  7.502751e+04   \n",
       "std      8435.455601    8429.897657       4.381867  6.469819e+04   \n",
       "min       500.000000     500.000000       5.320000  0.000000e+00   \n",
       "25%      8000.000000    8000.000000       9.990000  4.500000e+04   \n",
       "50%     13000.000000   13000.000000      12.990000  6.500000e+04   \n",
       "75%     20000.000000   20000.000000      16.200000  9.000000e+04   \n",
       "max     35000.000000   35000.000000      28.990000  9.500000e+06   \n",
       "\n",
       "                 dti     revol_bal    total_pymnt  \n",
       "count  887379.000000  8.873790e+05  887379.000000  \n",
       "mean       18.157039  1.692079e+04    7558.826684  \n",
       "std        17.190626  2.242679e+04    7871.243336  \n",
       "min         0.000000  0.000000e+00       0.000000  \n",
       "25%        11.910000  6.443000e+03    1914.590000  \n",
       "50%        17.650000  1.187500e+04    4894.999117  \n",
       "75%        23.950000  2.082900e+04   10616.814231  \n",
       "max      9999.000000  2.904836e+06   57777.579870  "
      ]
     },
     "execution_count": 14,
     "metadata": {},
     "output_type": "execute_result"
    }
   ],
   "source": [
    "Table_summary=loan_main.describe()\n",
    "Table_summary"
   ]
  },
  {
   "cell_type": "markdown",
   "metadata": {},
   "source": [
    "###### Distributions\n",
    "Next let’s look at some important distributions. Starting first with interest rates. To avoid biases created by outliers I think it is important to use the median instead of the mean for the general statistics. While I do analyze the mean, for distributions and analysis I will use the median statistics.\n"
   ]
  },
  {
   "cell_type": "code",
   "execution_count": 15,
   "metadata": {},
   "outputs": [
    {
     "data": {
      "image/png": "[encoded data removed]",
      "text/plain": [
       "<matplotlib.figure.Figure at 0x29d6dac4fd0>"
      ]
     },
     "metadata": {},
     "output_type": "display_data"
    }
   ],
   "source": [
    "zzz=pd.cut(loan_main['int_rate'].values,bins=20).value_counts().plot(kind='barh')\n",
    "plt.title('Distribution of Interest Rates')\n",
    "plt.xlabel('Count')\n",
    "plt.ylabel('Interest Rates Bins')\n",
    "plt.show()"
   ]
  },
  {
   "cell_type": "code",
   "execution_count": 16,
   "metadata": {},
   "outputs": [],
   "source": [
    "import matplotlib.pyplot as plt\n",
    "import scipy.stats as sp\n",
    "\n",
    "\n",
    "def qq_plot(series, figsize=(11, 8)):\n",
    "    \"\"\"compare given series to Normal distirbution\n",
    "    with matching location & scale\"\"\"\n",
    "    fig = plt.figure(figsize=figsize)\n",
    "    ax = fig.add_subplot(111)\n",
    "    arrs, res = sp.probplot(series, \n",
    "                            dist=sp.norm, \n",
    "                            sparams=(series.mean(), series.std()), \n",
    "                            plot=ax)\n",
    "    bbox = {'fc': '1', 'pad': 3}\n",
    "    xy = (ax.get_xticks()[-2], ax.get_yticks()[2])\n",
    "    text = ax.annotate(r'$R^2$: {}'.format(round(res[2], 3)),\n",
    "                     xy=xy,\n",
    "                     bbox=bbox)\n",
    "    title = ax.set_title('Q-Q plot')\n",
    "qq_plot(np.log(pvt['int_rate']), figsize=(11,8))"
   ]
  },
  {
   "cell_type": "markdown",
   "metadata": {},
   "source": [
    "We can clearly see that interest rates are not normally distributed across the data set."
   ]
  },
  {
   "cell_type": "code",
   "execution_count": 17,
   "metadata": {},
   "outputs": [
    {
     "data": {
      "image/png": "[encoded data removed]",
      "text/plain": [
       "<matplotlib.figure.Figure at 0x29d6dab1a20>"
      ]
     },
     "metadata": {},
     "output_type": "display_data"
    }
   ],
   "source": [
    "zzz=pd.cut(loan_main['loan_amnt'].values,bins=20).value_counts().plot(kind='barh')\n",
    "plt.title('Distribution of Loan Amounts')\n",
    "plt.xlabel('Count')\n",
    "plt.ylabel('Interest Rates Bins')\n",
    "plt.show()"
   ]
  },
  {
   "cell_type": "markdown",
   "metadata": {},
   "source": [
    "We can make summary statistics or distributions for any of the variables or variables set depending on what we want to know. For now, I will leave these visualizations but can return if there is any specific distribution or statistic you wish to visit."
   ]
  },
  {
   "cell_type": "markdown",
   "metadata": {},
   "source": [
    "# Part 2\n",
    "###### Adjust data set"
   ]
  },
  {
   "cell_type": "code",
   "execution_count": 18,
   "metadata": {},
   "outputs": [
    {
     "name": "stdout",
     "output_type": "stream",
     "text": [
      "[' 36 months' ' 60 months']\n"
     ]
    }
   ],
   "source": [
    "print(pvt['term'].unique())"
   ]
  },
  {
   "cell_type": "code",
   "execution_count": 19,
   "metadata": {},
   "outputs": [
    {
     "data": {
      "text/html": [
       "<div>\n",
       "<style>\n",
       "    .dataframe thead tr:only-child th {\n",
       "        text-align: right;\n",
       "    }\n",
       "\n",
       "    .dataframe thead th {\n",
       "        text-align: left;\n",
       "    }\n",
       "\n",
       "    .dataframe tbody tr th {\n",
       "        vertical-align: top;\n",
       "    }\n",
       "</style>\n",
       "<table border=\"1\" class=\"dataframe\">\n",
       "  <thead>\n",
       "    <tr style=\"text-align: right;\">\n",
       "      <th></th>\n",
       "      <th>loan_amnt</th>\n",
       "      <th>funded_amnt</th>\n",
       "      <th>term</th>\n",
       "      <th>int_rate</th>\n",
       "      <th>grade</th>\n",
       "      <th>annual_inc</th>\n",
       "      <th>issue_d</th>\n",
       "      <th>loan_status</th>\n",
       "      <th>dti</th>\n",
       "      <th>revol_bal</th>\n",
       "      <th>total_pymnt</th>\n",
       "    </tr>\n",
       "  </thead>\n",
       "  <tbody>\n",
       "    <tr>\n",
       "      <th>0</th>\n",
       "      <td>5000.0</td>\n",
       "      <td>5000.0</td>\n",
       "      <td>36 months</td>\n",
       "      <td>10.65</td>\n",
       "      <td>B</td>\n",
       "      <td>24000.0</td>\n",
       "      <td>Dec-2011</td>\n",
       "      <td>Fully Paid</td>\n",
       "      <td>27.65</td>\n",
       "      <td>13648.0</td>\n",
       "      <td>5861.071414</td>\n",
       "    </tr>\n",
       "    <tr>\n",
       "      <th>1</th>\n",
       "      <td>2500.0</td>\n",
       "      <td>2500.0</td>\n",
       "      <td>60 months</td>\n",
       "      <td>15.27</td>\n",
       "      <td>C</td>\n",
       "      <td>30000.0</td>\n",
       "      <td>Dec-2011</td>\n",
       "      <td>Charged Off</td>\n",
       "      <td>1.00</td>\n",
       "      <td>1687.0</td>\n",
       "      <td>1008.710000</td>\n",
       "    </tr>\n",
       "    <tr>\n",
       "      <th>2</th>\n",
       "      <td>2400.0</td>\n",
       "      <td>2400.0</td>\n",
       "      <td>36 months</td>\n",
       "      <td>15.96</td>\n",
       "      <td>C</td>\n",
       "      <td>12252.0</td>\n",
       "      <td>Dec-2011</td>\n",
       "      <td>Fully Paid</td>\n",
       "      <td>8.72</td>\n",
       "      <td>2956.0</td>\n",
       "      <td>3003.653644</td>\n",
       "    </tr>\n",
       "    <tr>\n",
       "      <th>3</th>\n",
       "      <td>10000.0</td>\n",
       "      <td>10000.0</td>\n",
       "      <td>36 months</td>\n",
       "      <td>13.49</td>\n",
       "      <td>C</td>\n",
       "      <td>49200.0</td>\n",
       "      <td>Dec-2011</td>\n",
       "      <td>Fully Paid</td>\n",
       "      <td>20.00</td>\n",
       "      <td>5598.0</td>\n",
       "      <td>12226.302212</td>\n",
       "    </tr>\n",
       "    <tr>\n",
       "      <th>4</th>\n",
       "      <td>3000.0</td>\n",
       "      <td>3000.0</td>\n",
       "      <td>60 months</td>\n",
       "      <td>12.69</td>\n",
       "      <td>B</td>\n",
       "      <td>80000.0</td>\n",
       "      <td>Dec-2011</td>\n",
       "      <td>Current</td>\n",
       "      <td>17.94</td>\n",
       "      <td>27783.0</td>\n",
       "      <td>3242.170000</td>\n",
       "    </tr>\n",
       "  </tbody>\n",
       "</table>\n",
       "</div>"
      ],
      "text/plain": [
       "   loan_amnt  funded_amnt        term  int_rate grade  annual_inc   issue_d  \\\n",
       "0     5000.0       5000.0   36 months     10.65     B     24000.0  Dec-2011   \n",
       "1     2500.0       2500.0   60 months     15.27     C     30000.0  Dec-2011   \n",
       "2     2400.0       2400.0   36 months     15.96     C     12252.0  Dec-2011   \n",
       "3    10000.0      10000.0   36 months     13.49     C     49200.0  Dec-2011   \n",
       "4     3000.0       3000.0   60 months     12.69     B     80000.0  Dec-2011   \n",
       "\n",
       "   loan_status    dti  revol_bal   total_pymnt  \n",
       "0   Fully Paid  27.65    13648.0   5861.071414  \n",
       "1  Charged Off   1.00     1687.0   1008.710000  \n",
       "2   Fully Paid   8.72     2956.0   3003.653644  \n",
       "3   Fully Paid  20.00     5598.0  12226.302212  \n",
       "4      Current  17.94    27783.0   3242.170000  "
      ]
     },
     "execution_count": 19,
     "metadata": {},
     "output_type": "execute_result"
    }
   ],
   "source": [
    "loan_main.head()"
   ]
  },
  {
   "cell_type": "markdown",
   "metadata": {},
   "source": [
    "As illustrated above there are no loans with terms less than 36 months so no loans need to be excluded."
   ]
  },
  {
   "cell_type": "markdown",
   "metadata": {},
   "source": [
    "###### 1) What percentage of loans has been fully paid? "
   ]
  },
  {
   "cell_type": "code",
   "execution_count": 20,
   "metadata": {},
   "outputs": [
    {
     "name": "stdout",
     "output_type": "stream",
     "text": [
      "['Fully Paid' 'Charged Off' 'Current' 'Default' 'Late (31-120 days)'\n",
      " 'In Grace Period' 'Late (16-30 days)'\n",
      " 'Does not meet the credit policy. Status:Fully Paid'\n",
      " 'Does not meet the credit policy. Status:Charged Off' 'Issued']\n"
     ]
    }
   ],
   "source": [
    "print(pvt['loan_status'].unique())\n"
   ]
  },
  {
   "cell_type": "code",
   "execution_count": 21,
   "metadata": {},
   "outputs": [
    {
     "name": "stdout",
     "output_type": "stream",
     "text": [
      "0    679656\n",
      "1    207723\n",
      "Name: Fully Paid, dtype: int64\n",
      "0.234085999331\n"
     ]
    }
   ],
   "source": [
    "x1=pd.get_dummies(loan_main['loan_status'], drop_first=False)\n",
    "print(x1['Fully Paid'].value_counts())\n",
    "print(x1['Fully Paid'].value_counts()[1]/(x1['Fully Paid'].value_counts()[0]+x1['Fully Paid'].value_counts()[1]))"
   ]
  },
  {
   "cell_type": "markdown",
   "metadata": {},
   "source": [
    "23.409% of loans have been fully paid off."
   ]
  },
  {
   "cell_type": "markdown",
   "metadata": {},
   "source": [
    "###### 2) When bucketed by year of origination and grade, which cohort has the highest rate of defaults? \n",
    "Here you may assume that any loan which was not fully paid had “defaulted”."
   ]
  },
  {
   "cell_type": "code",
   "execution_count": 22,
   "metadata": {},
   "outputs": [
    {
     "data": {
      "text/html": [
       "<div>\n",
       "<style>\n",
       "    .dataframe thead tr:only-child th {\n",
       "        text-align: right;\n",
       "    }\n",
       "\n",
       "    .dataframe thead th {\n",
       "        text-align: left;\n",
       "    }\n",
       "\n",
       "    .dataframe tbody tr th {\n",
       "        vertical-align: top;\n",
       "    }\n",
       "</style>\n",
       "<table border=\"1\" class=\"dataframe\">\n",
       "  <thead>\n",
       "    <tr style=\"text-align: right;\">\n",
       "      <th></th>\n",
       "      <th>loan_amnt</th>\n",
       "      <th>funded_amnt</th>\n",
       "      <th>term</th>\n",
       "      <th>int_rate</th>\n",
       "      <th>grade</th>\n",
       "      <th>annual_inc</th>\n",
       "      <th>issue_d</th>\n",
       "      <th>loan_status</th>\n",
       "      <th>dti</th>\n",
       "      <th>revol_bal</th>\n",
       "      <th>total_pymnt</th>\n",
       "      <th>default</th>\n",
       "    </tr>\n",
       "  </thead>\n",
       "  <tbody>\n",
       "    <tr>\n",
       "      <th>0</th>\n",
       "      <td>5000.0</td>\n",
       "      <td>5000.0</td>\n",
       "      <td>36 months</td>\n",
       "      <td>10.65</td>\n",
       "      <td>B</td>\n",
       "      <td>24000.0</td>\n",
       "      <td>Dec-2011</td>\n",
       "      <td>Fully Paid</td>\n",
       "      <td>27.65</td>\n",
       "      <td>13648.0</td>\n",
       "      <td>5861.071414</td>\n",
       "      <td>0</td>\n",
       "    </tr>\n",
       "    <tr>\n",
       "      <th>1</th>\n",
       "      <td>2500.0</td>\n",
       "      <td>2500.0</td>\n",
       "      <td>60 months</td>\n",
       "      <td>15.27</td>\n",
       "      <td>C</td>\n",
       "      <td>30000.0</td>\n",
       "      <td>Dec-2011</td>\n",
       "      <td>Charged Off</td>\n",
       "      <td>1.00</td>\n",
       "      <td>1687.0</td>\n",
       "      <td>1008.710000</td>\n",
       "      <td>1</td>\n",
       "    </tr>\n",
       "    <tr>\n",
       "      <th>2</th>\n",
       "      <td>2400.0</td>\n",
       "      <td>2400.0</td>\n",
       "      <td>36 months</td>\n",
       "      <td>15.96</td>\n",
       "      <td>C</td>\n",
       "      <td>12252.0</td>\n",
       "      <td>Dec-2011</td>\n",
       "      <td>Fully Paid</td>\n",
       "      <td>8.72</td>\n",
       "      <td>2956.0</td>\n",
       "      <td>3003.653644</td>\n",
       "      <td>0</td>\n",
       "    </tr>\n",
       "    <tr>\n",
       "      <th>3</th>\n",
       "      <td>10000.0</td>\n",
       "      <td>10000.0</td>\n",
       "      <td>36 months</td>\n",
       "      <td>13.49</td>\n",
       "      <td>C</td>\n",
       "      <td>49200.0</td>\n",
       "      <td>Dec-2011</td>\n",
       "      <td>Fully Paid</td>\n",
       "      <td>20.00</td>\n",
       "      <td>5598.0</td>\n",
       "      <td>12226.302212</td>\n",
       "      <td>0</td>\n",
       "    </tr>\n",
       "    <tr>\n",
       "      <th>4</th>\n",
       "      <td>3000.0</td>\n",
       "      <td>3000.0</td>\n",
       "      <td>60 months</td>\n",
       "      <td>12.69</td>\n",
       "      <td>B</td>\n",
       "      <td>80000.0</td>\n",
       "      <td>Dec-2011</td>\n",
       "      <td>Current</td>\n",
       "      <td>17.94</td>\n",
       "      <td>27783.0</td>\n",
       "      <td>3242.170000</td>\n",
       "      <td>1</td>\n",
       "    </tr>\n",
       "  </tbody>\n",
       "</table>\n",
       "</div>"
      ],
      "text/plain": [
       "   loan_amnt  funded_amnt        term  int_rate grade  annual_inc   issue_d  \\\n",
       "0     5000.0       5000.0   36 months     10.65     B     24000.0  Dec-2011   \n",
       "1     2500.0       2500.0   60 months     15.27     C     30000.0  Dec-2011   \n",
       "2     2400.0       2400.0   36 months     15.96     C     12252.0  Dec-2011   \n",
       "3    10000.0      10000.0   36 months     13.49     C     49200.0  Dec-2011   \n",
       "4     3000.0       3000.0   60 months     12.69     B     80000.0  Dec-2011   \n",
       "\n",
       "   loan_status    dti  revol_bal   total_pymnt  default  \n",
       "0   Fully Paid  27.65    13648.0   5861.071414        0  \n",
       "1  Charged Off   1.00     1687.0   1008.710000        1  \n",
       "2   Fully Paid   8.72     2956.0   3003.653644        0  \n",
       "3   Fully Paid  20.00     5598.0  12226.302212        0  \n",
       "4      Current  17.94    27783.0   3242.170000        1  "
      ]
     },
     "execution_count": 22,
     "metadata": {},
     "output_type": "execute_result"
    }
   ],
   "source": [
    "paid = {'Fully Paid'}\n",
    "loan_main['default'] = loan_main.loan_status.apply(lambda x: 0 if x in paid else 1)\n",
    "loan_main.head()"
   ]
  },
  {
   "cell_type": "code",
   "execution_count": 23,
   "metadata": {},
   "outputs": [
    {
     "data": {
      "text/html": [
       "<div>\n",
       "<style>\n",
       "    .dataframe thead tr:only-child th {\n",
       "        text-align: right;\n",
       "    }\n",
       "\n",
       "    .dataframe thead th {\n",
       "        text-align: left;\n",
       "    }\n",
       "\n",
       "    .dataframe tbody tr th {\n",
       "        vertical-align: top;\n",
       "    }\n",
       "</style>\n",
       "<table border=\"1\" class=\"dataframe\">\n",
       "  <thead>\n",
       "    <tr style=\"text-align: right;\">\n",
       "      <th></th>\n",
       "      <th></th>\n",
       "      <th>loan_amnt</th>\n",
       "      <th>funded_amnt</th>\n",
       "      <th>int_rate</th>\n",
       "      <th>annual_inc</th>\n",
       "      <th>dti</th>\n",
       "      <th>revol_bal</th>\n",
       "      <th>total_pymnt</th>\n",
       "      <th>default</th>\n",
       "    </tr>\n",
       "    <tr>\n",
       "      <th>issue_d</th>\n",
       "      <th>grade</th>\n",
       "      <th></th>\n",
       "      <th></th>\n",
       "      <th></th>\n",
       "      <th></th>\n",
       "      <th></th>\n",
       "      <th></th>\n",
       "      <th></th>\n",
       "      <th></th>\n",
       "    </tr>\n",
       "  </thead>\n",
       "  <tbody>\n",
       "    <tr>\n",
       "      <th rowspan=\"2\" valign=\"top\">Oct-2015</th>\n",
       "      <th>B</th>\n",
       "      <td>206819775.0</td>\n",
       "      <td>206819775.0</td>\n",
       "      <td>146166.39</td>\n",
       "      <td>1.176216e+09</td>\n",
       "      <td>263597.44</td>\n",
       "      <td>268577786.0</td>\n",
       "      <td>1.923720e+07</td>\n",
       "      <td>14426</td>\n",
       "    </tr>\n",
       "    <tr>\n",
       "      <th>C</th>\n",
       "      <td>205131775.0</td>\n",
       "      <td>205131775.0</td>\n",
       "      <td>184708.02</td>\n",
       "      <td>1.011026e+09</td>\n",
       "      <td>274169.42</td>\n",
       "      <td>234815105.0</td>\n",
       "      <td>1.940945e+07</td>\n",
       "      <td>13583</td>\n",
       "    </tr>\n",
       "    <tr>\n",
       "      <th rowspan=\"2\" valign=\"top\">Dec-2015</th>\n",
       "      <th>B</th>\n",
       "      <td>182194000.0</td>\n",
       "      <td>182194000.0</td>\n",
       "      <td>132568.22</td>\n",
       "      <td>1.073938e+09</td>\n",
       "      <td>242365.21</td>\n",
       "      <td>236034464.0</td>\n",
       "      <td>4.268368e+06</td>\n",
       "      <td>13276</td>\n",
       "    </tr>\n",
       "    <tr>\n",
       "      <th>C</th>\n",
       "      <td>191813650.0</td>\n",
       "      <td>191813650.0</td>\n",
       "      <td>169765.89</td>\n",
       "      <td>9.769811e+08</td>\n",
       "      <td>260024.25</td>\n",
       "      <td>220854272.0</td>\n",
       "      <td>4.725006e+06</td>\n",
       "      <td>12837</td>\n",
       "    </tr>\n",
       "    <tr>\n",
       "      <th>Jul-2015</th>\n",
       "      <th>C</th>\n",
       "      <td>193028775.0</td>\n",
       "      <td>193028775.0</td>\n",
       "      <td>177100.69</td>\n",
       "      <td>9.498122e+08</td>\n",
       "      <td>264419.35</td>\n",
       "      <td>224350385.0</td>\n",
       "      <td>3.848171e+07</td>\n",
       "      <td>12630</td>\n",
       "    </tr>\n",
       "  </tbody>\n",
       "</table>\n",
       "</div>"
      ],
      "text/plain": [
       "                  loan_amnt  funded_amnt   int_rate    annual_inc        dti  \\\n",
       "issue_d  grade                                                                 \n",
       "Oct-2015 B      206819775.0  206819775.0  146166.39  1.176216e+09  263597.44   \n",
       "         C      205131775.0  205131775.0  184708.02  1.011026e+09  274169.42   \n",
       "Dec-2015 B      182194000.0  182194000.0  132568.22  1.073938e+09  242365.21   \n",
       "         C      191813650.0  191813650.0  169765.89  9.769811e+08  260024.25   \n",
       "Jul-2015 C      193028775.0  193028775.0  177100.69  9.498122e+08  264419.35   \n",
       "\n",
       "                  revol_bal   total_pymnt  default  \n",
       "issue_d  grade                                      \n",
       "Oct-2015 B      268577786.0  1.923720e+07    14426  \n",
       "         C      234815105.0  1.940945e+07    13583  \n",
       "Dec-2015 B      236034464.0  4.268368e+06    13276  \n",
       "         C      220854272.0  4.725006e+06    12837  \n",
       "Jul-2015 C      224350385.0  3.848171e+07    12630  "
      ]
     },
     "execution_count": 23,
     "metadata": {},
     "output_type": "execute_result"
    }
   ],
   "source": [
    "loan_main.groupby(['issue_d', 'grade']).sum().sort_values('default', ascending=False).head()"
   ]
  },
  {
   "cell_type": "markdown",
   "metadata": {},
   "source": [
    "The Bucketed group with the most defaults is loans issued on Oct-2015 with a grade of B. This is interesting because if you look at the loans with the least amount of default you see that they were all issued in 2008 after crisis happened. So, it appears timing has a massive effect on loan default."
   ]
  },
  {
   "cell_type": "markdown",
   "metadata": {},
   "source": [
    "###### 3) When bucketed by year of origination and grade, what annualized rate of return have these loans generated on average?\n",
    "For simplicity, use the following approximation:\n",
    "Annualized rate of return = (total_pymnt / funded_amnt) ^ (1/3) - 1\n"
   ]
  },
  {
   "cell_type": "code",
   "execution_count": 24,
   "metadata": {},
   "outputs": [
    {
     "data": {
      "text/html": [
       "<div>\n",
       "<style>\n",
       "    .dataframe thead tr:only-child th {\n",
       "        text-align: right;\n",
       "    }\n",
       "\n",
       "    .dataframe thead th {\n",
       "        text-align: left;\n",
       "    }\n",
       "\n",
       "    .dataframe tbody tr th {\n",
       "        vertical-align: top;\n",
       "    }\n",
       "</style>\n",
       "<table border=\"1\" class=\"dataframe\">\n",
       "  <thead>\n",
       "    <tr style=\"text-align: right;\">\n",
       "      <th></th>\n",
       "      <th>loan_amnt</th>\n",
       "      <th>funded_amnt</th>\n",
       "      <th>term</th>\n",
       "      <th>int_rate</th>\n",
       "      <th>grade</th>\n",
       "      <th>annual_inc</th>\n",
       "      <th>issue_d</th>\n",
       "      <th>loan_status</th>\n",
       "      <th>dti</th>\n",
       "      <th>revol_bal</th>\n",
       "      <th>total_pymnt</th>\n",
       "      <th>default</th>\n",
       "      <th>Ann_ret</th>\n",
       "    </tr>\n",
       "  </thead>\n",
       "  <tbody>\n",
       "    <tr>\n",
       "      <th>0</th>\n",
       "      <td>5000.0</td>\n",
       "      <td>5000.0</td>\n",
       "      <td>36 months</td>\n",
       "      <td>10.65</td>\n",
       "      <td>B</td>\n",
       "      <td>24000.0</td>\n",
       "      <td>Dec-2011</td>\n",
       "      <td>Fully Paid</td>\n",
       "      <td>27.65</td>\n",
       "      <td>13648.0</td>\n",
       "      <td>5861.071414</td>\n",
       "      <td>0</td>\n",
       "      <td>0.054393</td>\n",
       "    </tr>\n",
       "    <tr>\n",
       "      <th>1</th>\n",
       "      <td>2500.0</td>\n",
       "      <td>2500.0</td>\n",
       "      <td>60 months</td>\n",
       "      <td>15.27</td>\n",
       "      <td>C</td>\n",
       "      <td>30000.0</td>\n",
       "      <td>Dec-2011</td>\n",
       "      <td>Charged Off</td>\n",
       "      <td>1.00</td>\n",
       "      <td>1687.0</td>\n",
       "      <td>1008.710000</td>\n",
       "      <td>1</td>\n",
       "      <td>-0.261061</td>\n",
       "    </tr>\n",
       "    <tr>\n",
       "      <th>2</th>\n",
       "      <td>2400.0</td>\n",
       "      <td>2400.0</td>\n",
       "      <td>36 months</td>\n",
       "      <td>15.96</td>\n",
       "      <td>C</td>\n",
       "      <td>12252.0</td>\n",
       "      <td>Dec-2011</td>\n",
       "      <td>Fully Paid</td>\n",
       "      <td>8.72</td>\n",
       "      <td>2956.0</td>\n",
       "      <td>3003.653644</td>\n",
       "      <td>0</td>\n",
       "      <td>0.077654</td>\n",
       "    </tr>\n",
       "    <tr>\n",
       "      <th>3</th>\n",
       "      <td>10000.0</td>\n",
       "      <td>10000.0</td>\n",
       "      <td>36 months</td>\n",
       "      <td>13.49</td>\n",
       "      <td>C</td>\n",
       "      <td>49200.0</td>\n",
       "      <td>Dec-2011</td>\n",
       "      <td>Fully Paid</td>\n",
       "      <td>20.00</td>\n",
       "      <td>5598.0</td>\n",
       "      <td>12226.302212</td>\n",
       "      <td>0</td>\n",
       "      <td>0.069297</td>\n",
       "    </tr>\n",
       "    <tr>\n",
       "      <th>4</th>\n",
       "      <td>3000.0</td>\n",
       "      <td>3000.0</td>\n",
       "      <td>60 months</td>\n",
       "      <td>12.69</td>\n",
       "      <td>B</td>\n",
       "      <td>80000.0</td>\n",
       "      <td>Dec-2011</td>\n",
       "      <td>Current</td>\n",
       "      <td>17.94</td>\n",
       "      <td>27783.0</td>\n",
       "      <td>3242.170000</td>\n",
       "      <td>1</td>\n",
       "      <td>0.026215</td>\n",
       "    </tr>\n",
       "  </tbody>\n",
       "</table>\n",
       "</div>"
      ],
      "text/plain": [
       "   loan_amnt  funded_amnt        term  int_rate grade  annual_inc   issue_d  \\\n",
       "0     5000.0       5000.0   36 months     10.65     B     24000.0  Dec-2011   \n",
       "1     2500.0       2500.0   60 months     15.27     C     30000.0  Dec-2011   \n",
       "2     2400.0       2400.0   36 months     15.96     C     12252.0  Dec-2011   \n",
       "3    10000.0      10000.0   36 months     13.49     C     49200.0  Dec-2011   \n",
       "4     3000.0       3000.0   60 months     12.69     B     80000.0  Dec-2011   \n",
       "\n",
       "   loan_status    dti  revol_bal   total_pymnt  default   Ann_ret  \n",
       "0   Fully Paid  27.65    13648.0   5861.071414        0  0.054393  \n",
       "1  Charged Off   1.00     1687.0   1008.710000        1 -0.261061  \n",
       "2   Fully Paid   8.72     2956.0   3003.653644        0  0.077654  \n",
       "3   Fully Paid  20.00     5598.0  12226.302212        0  0.069297  \n",
       "4      Current  17.94    27783.0   3242.170000        1  0.026215  "
      ]
     },
     "execution_count": 24,
     "metadata": {},
     "output_type": "execute_result"
    }
   ],
   "source": [
    "paid = {'Fully Paid'}\n",
    "loan_main['Ann_ret'] = (loan_main.total_pymnt / loan_main.funded_amnt)**(1/3)-1 \n",
    "loan_main.head()"
   ]
  },
  {
   "cell_type": "code",
   "execution_count": 25,
   "metadata": {},
   "outputs": [
    {
     "data": {
      "text/html": [
       "<div>\n",
       "<style>\n",
       "    .dataframe thead tr:only-child th {\n",
       "        text-align: right;\n",
       "    }\n",
       "\n",
       "    .dataframe thead th {\n",
       "        text-align: left;\n",
       "    }\n",
       "\n",
       "    .dataframe tbody tr th {\n",
       "        vertical-align: top;\n",
       "    }\n",
       "</style>\n",
       "<table border=\"1\" class=\"dataframe\">\n",
       "  <thead>\n",
       "    <tr style=\"text-align: right;\">\n",
       "      <th></th>\n",
       "      <th></th>\n",
       "      <th>loan_amnt</th>\n",
       "      <th>funded_amnt</th>\n",
       "      <th>term</th>\n",
       "      <th>int_rate</th>\n",
       "      <th>annual_inc</th>\n",
       "      <th>loan_status</th>\n",
       "      <th>dti</th>\n",
       "      <th>revol_bal</th>\n",
       "      <th>total_pymnt</th>\n",
       "      <th>default</th>\n",
       "      <th>Ann_ret</th>\n",
       "    </tr>\n",
       "    <tr>\n",
       "      <th>issue_d</th>\n",
       "      <th>grade</th>\n",
       "      <th></th>\n",
       "      <th></th>\n",
       "      <th></th>\n",
       "      <th></th>\n",
       "      <th></th>\n",
       "      <th></th>\n",
       "      <th></th>\n",
       "      <th></th>\n",
       "      <th></th>\n",
       "      <th></th>\n",
       "      <th></th>\n",
       "    </tr>\n",
       "  </thead>\n",
       "  <tbody>\n",
       "    <tr>\n",
       "      <th>Jul-2011</th>\n",
       "      <th>G</th>\n",
       "      <td>35000.0</td>\n",
       "      <td>35000.0</td>\n",
       "      <td>60 months</td>\n",
       "      <td>23.22</td>\n",
       "      <td>300000.0</td>\n",
       "      <td>Fully Paid</td>\n",
       "      <td>22.90</td>\n",
       "      <td>125558.0</td>\n",
       "      <td>49501.630000</td>\n",
       "      <td>1</td>\n",
       "      <td>0.190869</td>\n",
       "    </tr>\n",
       "    <tr>\n",
       "      <th>Feb-2012</th>\n",
       "      <th>G</th>\n",
       "      <td>35000.0</td>\n",
       "      <td>35000.0</td>\n",
       "      <td>60 months</td>\n",
       "      <td>24.89</td>\n",
       "      <td>195000.0</td>\n",
       "      <td>Fully Paid</td>\n",
       "      <td>24.56</td>\n",
       "      <td>81312.0</td>\n",
       "      <td>54919.984247</td>\n",
       "      <td>1</td>\n",
       "      <td>0.187055</td>\n",
       "    </tr>\n",
       "    <tr>\n",
       "      <th>Nov-2011</th>\n",
       "      <th>G</th>\n",
       "      <td>35000.0</td>\n",
       "      <td>35000.0</td>\n",
       "      <td>60 months</td>\n",
       "      <td>23.91</td>\n",
       "      <td>200000.0</td>\n",
       "      <td>Fully Paid</td>\n",
       "      <td>24.00</td>\n",
       "      <td>50427.0</td>\n",
       "      <td>48076.740000</td>\n",
       "      <td>1</td>\n",
       "      <td>0.183219</td>\n",
       "    </tr>\n",
       "    <tr>\n",
       "      <th>Mar-2012</th>\n",
       "      <th>G</th>\n",
       "      <td>35000.0</td>\n",
       "      <td>35000.0</td>\n",
       "      <td>60 months</td>\n",
       "      <td>24.89</td>\n",
       "      <td>310000.0</td>\n",
       "      <td>Fully Paid</td>\n",
       "      <td>24.93</td>\n",
       "      <td>57783.0</td>\n",
       "      <td>46245.236850</td>\n",
       "      <td>1</td>\n",
       "      <td>0.182051</td>\n",
       "    </tr>\n",
       "    <tr>\n",
       "      <th>Aug-2012</th>\n",
       "      <th>G</th>\n",
       "      <td>35000.0</td>\n",
       "      <td>35000.0</td>\n",
       "      <td>60 months</td>\n",
       "      <td>24.89</td>\n",
       "      <td>195500.0</td>\n",
       "      <td>Fully Paid</td>\n",
       "      <td>31.98</td>\n",
       "      <td>58061.0</td>\n",
       "      <td>57777.579870</td>\n",
       "      <td>1</td>\n",
       "      <td>0.181854</td>\n",
       "    </tr>\n",
       "  </tbody>\n",
       "</table>\n",
       "</div>"
      ],
      "text/plain": [
       "                loan_amnt  funded_amnt        term  int_rate  annual_inc  \\\n",
       "issue_d  grade                                                             \n",
       "Jul-2011 G        35000.0      35000.0   60 months     23.22    300000.0   \n",
       "Feb-2012 G        35000.0      35000.0   60 months     24.89    195000.0   \n",
       "Nov-2011 G        35000.0      35000.0   60 months     23.91    200000.0   \n",
       "Mar-2012 G        35000.0      35000.0   60 months     24.89    310000.0   \n",
       "Aug-2012 G        35000.0      35000.0   60 months     24.89    195500.0   \n",
       "\n",
       "               loan_status    dti  revol_bal   total_pymnt  default   Ann_ret  \n",
       "issue_d  grade                                                                 \n",
       "Jul-2011 G      Fully Paid  22.90   125558.0  49501.630000        1  0.190869  \n",
       "Feb-2012 G      Fully Paid  24.56    81312.0  54919.984247        1  0.187055  \n",
       "Nov-2011 G      Fully Paid  24.00    50427.0  48076.740000        1  0.183219  \n",
       "Mar-2012 G      Fully Paid  24.93    57783.0  46245.236850        1  0.182051  \n",
       "Aug-2012 G      Fully Paid  31.98    58061.0  57777.579870        1  0.181854  "
      ]
     },
     "execution_count": 25,
     "metadata": {},
     "output_type": "execute_result"
    }
   ],
   "source": [
    "loan_main.groupby(['issue_d', 'grade']).max().sort_values('Ann_ret', ascending=False).head()"
   ]
  },
  {
   "cell_type": "markdown",
   "metadata": {},
   "source": [
    "We find that G which would be the riskiest loan, has the highest rate of returns on average. This makes sense because for the additional risk the investors are taking on they expect a higher return."
   ]
  },
  {
   "cell_type": "markdown",
   "metadata": {
    "collapsed": true
   },
   "source": [
    "# Part 3\n",
    "Logistic Regression"
   ]
  },
  {
   "cell_type": "code",
   "execution_count": 26,
   "metadata": {},
   "outputs": [
    {
     "name": "stdout",
     "output_type": "stream",
     "text": [
      "1    679656\n",
      "0    207723\n",
      "Name: default, dtype: int64\n",
      "1    679656\n",
      "0    207723\n",
      "Name: default, dtype: int64\n"
     ]
    }
   ],
   "source": [
    "print(loan_main['default'].value_counts())\n",
    "data=loan_main\n",
    "print(data['default'].value_counts())"
   ]
  },
  {
   "cell_type": "markdown",
   "metadata": {},
   "source": [
    "###### Creating Dummy Variables\n",
    "First, I am going to create dummy variables for my categorical variables, excluding loan_status because that gives the default status implicitly. The variables that will be used are 'grade', 'term' and 'issue_d'. Each of these variables will be split into several different dummy variables, these dummy variables are what I will be using in my logistic regression. I dropped the first dummy variable of each new set because the first dummy variable is our base."
   ]
  },
  {
   "cell_type": "code",
   "execution_count": 27,
   "metadata": {},
   "outputs": [],
   "source": [
    "x1=pd.get_dummies(data['issue_d'], 'date', drop_first=True)\n",
    "x2=pd.get_dummies(data['grade'], 'grade', drop_first=True)\n",
    "x3=pd.get_dummies(data['term'], 'term', drop_first=True)\n",
    "data=data.join(x1)\n",
    "data=data.join(x2)\n",
    "data=data.join(x3)"
   ]
  },
  {
   "cell_type": "markdown",
   "metadata": {},
   "source": [
    "Here I make sure to drop the variables that will not be included in the regression. For now, that includes the categorical variables I created dummies out of and the 'loan_status', because I already created my default variable earlier. Below is a list of each variable to be used within the regression."
   ]
  },
  {
   "cell_type": "code",
   "execution_count": 28,
   "metadata": {},
   "outputs": [
    {
     "data": {
      "text/plain": [
       "array(['loan_amnt', 'funded_amnt', 'int_rate', 'annual_inc', 'dti',\n",
       "       'revol_bal', 'total_pymnt', 'default', 'Ann_ret', 'date_Apr-2009',\n",
       "       'date_Apr-2010', 'date_Apr-2011', 'date_Apr-2012', 'date_Apr-2013',\n",
       "       'date_Apr-2014', 'date_Apr-2015', 'date_Aug-2007', 'date_Aug-2008',\n",
       "       'date_Aug-2009', 'date_Aug-2010', 'date_Aug-2011', 'date_Aug-2012',\n",
       "       'date_Aug-2013', 'date_Aug-2014', 'date_Aug-2015', 'date_Dec-2007',\n",
       "       'date_Dec-2008', 'date_Dec-2009', 'date_Dec-2010', 'date_Dec-2011',\n",
       "       'date_Dec-2012', 'date_Dec-2013', 'date_Dec-2014', 'date_Dec-2015',\n",
       "       'date_Feb-2008', 'date_Feb-2009', 'date_Feb-2010', 'date_Feb-2011',\n",
       "       'date_Feb-2012', 'date_Feb-2013', 'date_Feb-2014', 'date_Feb-2015',\n",
       "       'date_Jan-2008', 'date_Jan-2009', 'date_Jan-2010', 'date_Jan-2011',\n",
       "       'date_Jan-2012', 'date_Jan-2013', 'date_Jan-2014', 'date_Jan-2015',\n",
       "       'date_Jul-2007', 'date_Jul-2008', 'date_Jul-2009', 'date_Jul-2010',\n",
       "       'date_Jul-2011', 'date_Jul-2012', 'date_Jul-2013', 'date_Jul-2014',\n",
       "       'date_Jul-2015', 'date_Jun-2007', 'date_Jun-2008', 'date_Jun-2009',\n",
       "       'date_Jun-2010', 'date_Jun-2011', 'date_Jun-2012', 'date_Jun-2013',\n",
       "       'date_Jun-2014', 'date_Jun-2015', 'date_Mar-2008', 'date_Mar-2009',\n",
       "       'date_Mar-2010', 'date_Mar-2011', 'date_Mar-2012', 'date_Mar-2013',\n",
       "       'date_Mar-2014', 'date_Mar-2015', 'date_May-2008', 'date_May-2009',\n",
       "       'date_May-2010', 'date_May-2011', 'date_May-2012', 'date_May-2013',\n",
       "       'date_May-2014', 'date_May-2015', 'date_Nov-2007', 'date_Nov-2008',\n",
       "       'date_Nov-2009', 'date_Nov-2010', 'date_Nov-2011', 'date_Nov-2012',\n",
       "       'date_Nov-2013', 'date_Nov-2014', 'date_Nov-2015', 'date_Oct-2007',\n",
       "       'date_Oct-2008', 'date_Oct-2009', 'date_Oct-2010', 'date_Oct-2011',\n",
       "       'date_Oct-2012', 'date_Oct-2013', 'date_Oct-2014', 'date_Oct-2015',\n",
       "       'date_Sep-2007', 'date_Sep-2008', 'date_Sep-2009', 'date_Sep-2010',\n",
       "       'date_Sep-2011', 'date_Sep-2012', 'date_Sep-2013', 'date_Sep-2014',\n",
       "       'date_Sep-2015', 'grade_B', 'grade_C', 'grade_D', 'grade_E',\n",
       "       'grade_F', 'grade_G', 'term_ 60 months'], dtype=object)"
      ]
     },
     "execution_count": 28,
     "metadata": {},
     "output_type": "execute_result"
    }
   ],
   "source": [
    "cat_vars=['issue_d','grade','term','loan_status']\n",
    "data_vars=data.columns.values.tolist()\n",
    "to_keep=[i for i in data_vars if i not in cat_vars]\n",
    "data_final=data[to_keep]\n",
    "data_final.columns.values"
   ]
  },
  {
   "cell_type": "markdown",
   "metadata": {},
   "source": [
    "###### Split data\n",
    "Next, we need to split the data into a training set and a testing set. The goal is to not over fit your model. If you test your data with the same data, you trained your model with then you are likely to get an overfitted model. By splitting the data, you can test your model without using any of the data points you used to test the model. I tend to like to train using 70%-80% of my data and testing with the remaining 20%-30%. "
   ]
  },
  {
   "cell_type": "code",
   "execution_count": 46,
   "metadata": {
    "collapsed": true
   },
   "outputs": [],
   "source": [
    "X = data_final.loc[:, data_final.columns != 'default'].values\n",
    "y = data_final.loc[:, data_final.columns == 'default'].values\n",
    "X_train, X_test, y_train, y_test = train_test_split(X, y, test_size = .3, random_state=25)"
   ]
  },
  {
   "cell_type": "code",
   "execution_count": 47,
   "metadata": {},
   "outputs": [
    {
     "data": {
      "text/plain": [
       "LogisticRegression(C=1.0, class_weight=None, dual=False, fit_intercept=True,\n",
       "          intercept_scaling=1, max_iter=100, multi_class='ovr', n_jobs=1,\n",
       "          penalty='l2', random_state=None, solver='liblinear', tol=0.0001,\n",
       "          verbose=0, warm_start=False)"
      ]
     },
     "execution_count": 47,
     "metadata": {},
     "output_type": "execute_result"
    }
   ],
   "source": [
    "LogReg = LogisticRegression()\n",
    "LogReg.fit(X_train, np.concatenate(y_train))"
   ]
  },
  {
   "cell_type": "markdown",
   "metadata": {},
   "source": [
    "###### Test\n",
    "After fitting the model, we can use our x variables from our test data to predict the expected outcome of our y variables."
   ]
  },
  {
   "cell_type": "code",
   "execution_count": 48,
   "metadata": {
    "collapsed": true
   },
   "outputs": [],
   "source": [
    "y_pred = LogReg.predict(X_test)"
   ]
  },
  {
   "cell_type": "markdown",
   "metadata": {},
   "source": [
    "Finally, we compare our predictions with the actual results. The matrix reports the results in the following way. The top left corner is the “True Positive”, meaning it is the number of times the model correctly guessed a default. The bottom left is “False Positives”, the number of times the model incorrectly predicted a default. The bottom right is “True Negatives” the number of times the model correctly predicted no default. The top right is, “False Negatives”, the number of times the model incorrectly predicted no default. "
   ]
  },
  {
   "cell_type": "code",
   "execution_count": 49,
   "metadata": {},
   "outputs": [
    {
     "name": "stdout",
     "output_type": "stream",
     "text": [
      "[[ 61428    785]\n",
      " [  8051 195950]]\n"
     ]
    }
   ],
   "source": [
    "from sklearn.metrics import confusion_matrix\n",
    "confusion_matrix = confusion_matrix(y_test, y_pred)\n",
    "print(confusion_matrix)"
   ]
  },
  {
   "cell_type": "markdown",
   "metadata": {},
   "source": [
    "Below is more measurement on the accuracy of our model. Precision is the ratio of the number of true positives and false positives.It determines how good the model is at not labeling a negative sample as positive. \n",
    "$$\\frac{TP}{TP+FP}$$\n",
    "Recall is the ratio of true positives to false negatives. It determines how good the model is at finding all positive samples.  \n",
    "$$\\frac{TP}{TP+FN}$$\n"
   ]
  },
  {
   "cell_type": "code",
   "execution_count": 50,
   "metadata": {},
   "outputs": [
    {
     "name": "stdout",
     "output_type": "stream",
     "text": [
      "             precision    recall  f1-score   support\n",
      "\n",
      "          0       0.88      0.99      0.93     62213\n",
      "          1       1.00      0.96      0.98    204001\n",
      "\n",
      "avg / total       0.97      0.97      0.97    266214\n",
      "\n"
     ]
    }
   ],
   "source": [
    "print(sklearn.metrics.classification_report(y_test, y_pred))"
   ]
  },
  {
   "cell_type": "markdown",
   "metadata": {},
   "source": [
    "###### Results\n",
    "From these results we can see that the model is very accurate. While this is encouraging, it is also important to realize that this is largely due to our date categories. As I mentioned earlier in the report, the time at which the loans were issued plays a major factor in whether the loans will default or not. This is important to acknowledge because the model is limited to the scope of when all these loans expire. Therefore, it might also be useful to run this same regression without the date variables for future loans."
   ]
  },
  {
   "cell_type": "code",
   "execution_count": 122,
   "metadata": {
    "collapsed": true
   },
   "outputs": [],
   "source": [
    "data2=loan_main\n",
    "x2=pd.get_dummies(data2['grade'], 'grade', drop_first=True)\n",
    "x3=pd.get_dummies(data2['term'], 'term', drop_first=True)\n",
    "data2=data2.join(x2)\n",
    "data2=data2.join(x3)"
   ]
  },
  {
   "cell_type": "code",
   "execution_count": 123,
   "metadata": {},
   "outputs": [
    {
     "data": {
      "text/plain": [
       "array(['loan_amnt', 'funded_amnt', 'int_rate', 'annual_inc', 'dti',\n",
       "       'revol_bal', 'total_pymnt', 'default', 'Ann_ret', 'grade_B',\n",
       "       'grade_C', 'grade_D', 'grade_E', 'grade_F', 'grade_G',\n",
       "       'term_ 60 months'], dtype=object)"
      ]
     },
     "execution_count": 123,
     "metadata": {},
     "output_type": "execute_result"
    }
   ],
   "source": [
    "cat_vars=['issue_d','grade','term','loan_status']\n",
    "data_vars=data2.columns.values.tolist()\n",
    "to_keep=[i for i in data_vars if i not in cat_vars]\n",
    "data_final=data2[to_keep]\n",
    "data_final.columns.values"
   ]
  },
  {
   "cell_type": "code",
   "execution_count": 124,
   "metadata": {
    "collapsed": true
   },
   "outputs": [],
   "source": [
    "X = data_final.loc[:, data_final.columns != 'default'].values\n",
    "y = data_final.loc[:, data_final.columns == 'default'].values\n",
    "X_train, X_test, y_train, y_test = train_test_split(X, y, test_size = .3)"
   ]
  },
  {
   "cell_type": "code",
   "execution_count": 125,
   "metadata": {},
   "outputs": [
    {
     "data": {
      "text/plain": [
       "LogisticRegression(C=1.0, class_weight=None, dual=False, fit_intercept=True,\n",
       "          intercept_scaling=1, max_iter=100, multi_class='ovr', n_jobs=1,\n",
       "          penalty='l2', random_state=None, solver='liblinear', tol=0.0001,\n",
       "          verbose=0, warm_start=False)"
      ]
     },
     "execution_count": 125,
     "metadata": {},
     "output_type": "execute_result"
    }
   ],
   "source": [
    "LogReg = LogisticRegression()\n",
    "LogReg.fit(X_train, np.concatenate(y_train))"
   ]
  },
  {
   "cell_type": "code",
   "execution_count": 126,
   "metadata": {
    "collapsed": true
   },
   "outputs": [],
   "source": [
    "y_pred = LogReg.predict(X_test)"
   ]
  },
  {
   "cell_type": "code",
   "execution_count": 127,
   "metadata": {},
   "outputs": [
    {
     "name": "stdout",
     "output_type": "stream",
     "text": [
      "[[ 61457    802]\n",
      " [  8049 195906]]\n"
     ]
    }
   ],
   "source": [
    "from sklearn.metrics import confusion_matrix\n",
    "confusion_matrix = confusion_matrix(y_test, y_pred)\n",
    "print(confusion_matrix)"
   ]
  },
  {
   "cell_type": "code",
   "execution_count": 121,
   "metadata": {},
   "outputs": [
    {
     "name": "stdout",
     "output_type": "stream",
     "text": [
      "             precision    recall  f1-score   support\n",
      "\n",
      "          0       0.88      0.99      0.93     62408\n",
      "          1       1.00      0.96      0.98    203806\n",
      "\n",
      "avg / total       0.97      0.97      0.97    266214\n",
      "\n"
     ]
    }
   ],
   "source": [
    "print(sklearn.metrics.classification_report(y_test, y_pred))"
   ]
  },
  {
   "cell_type": "markdown",
   "metadata": {},
   "source": [
    "What we find is that date issued doesn’t have the magnitude of affect I anticipated. There is a slight difference within the confusion matrix, but not nearly as significant a difference as I previously imagined."
   ]
  },
  {
   "cell_type": "code",
   "execution_count": null,
   "metadata": {
    "collapsed": true
   },
   "outputs": [],
   "source": []
  }
 ],
 "metadata": {
  "kernelspec": {
   "display_name": "Python 3",
   "language": "python",
   "name": "python3"
  },
  "language_info": {
   "codemirror_mode": {
    "name": "ipython",
    "version": 3
   },
   "file_extension": ".py",
   "mimetype": "text/x-python",
   "name": "python",
   "nbconvert_exporter": "python",
   "pygments_lexer": "ipython3",
   "version": "3.6.3"
  }
 },
 "nbformat": 4,
 "nbformat_minor": 2
}
